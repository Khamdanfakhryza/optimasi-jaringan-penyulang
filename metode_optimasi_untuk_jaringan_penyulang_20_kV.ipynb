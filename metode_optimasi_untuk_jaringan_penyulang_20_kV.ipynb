{
  "cells": [
    {
      "cell_type": "markdown",
      "metadata": {
        "id": "view-in-github",
        "colab_type": "text"
      },
      "source": [
        "<a href=\"https://colab.research.google.com/github/Khamdanfakhryza/optimasi-jaringan-penyulang/blob/main/metode_optimasi_untuk_jaringan_penyulang_20_kV.ipynb\" target=\"_parent\"><img src=\"https://colab.research.google.com/assets/colab-badge.svg\" alt=\"Open In Colab\"/></a>"
      ]
    },
    {
      "cell_type": "code",
      "execution_count": null,
      "metadata": {
        "colab": {
          "background_save": true
        },
        "id": "7zd5rJKlLhgC"
      },
      "outputs": [],
      "source": [
        "#----------------------------Import Modul yang Diperlukan\n",
        "import pandas as pd\n",
        "import numpy as np\n",
        "from google.colab import files\n",
        "from pydrive.auth import GoogleAuth\n",
        "from pydrive.drive import GoogleDrive\n",
        "from google.colab import auth\n",
        "from oauth2client.client import GoogleCredentials"
      ]
    },
    {
      "cell_type": "code",
      "execution_count": null,
      "metadata": {
        "colab": {
          "base_uri": "https://localhost:8080/",
          "height": 69
        },
        "id": "V25zFmW1M-cj",
        "outputId": "6b39215a-efe8-4c83-8c76-eca46e88387e"
      },
      "outputs": [
        {
          "output_type": "display_data",
          "data": {
            "text/plain": [
              "<IPython.core.display.Javascript object>"
            ],
            "application/javascript": [
              "\n",
              "    async function download(id, filename, size) {\n",
              "      if (!google.colab.kernel.accessAllowed) {\n",
              "        return;\n",
              "      }\n",
              "      const div = document.createElement('div');\n",
              "      const label = document.createElement('label');\n",
              "      label.textContent = `Downloading \"${filename}\": `;\n",
              "      div.appendChild(label);\n",
              "      const progress = document.createElement('progress');\n",
              "      progress.max = size;\n",
              "      div.appendChild(progress);\n",
              "      document.body.appendChild(div);\n",
              "\n",
              "      const buffers = [];\n",
              "      let downloaded = 0;\n",
              "\n",
              "      const channel = await google.colab.kernel.comms.open(id);\n",
              "      // Send a message to notify the kernel that we're ready.\n",
              "      channel.send({})\n",
              "\n",
              "      for await (const message of channel.messages) {\n",
              "        // Send a message to notify the kernel that we're ready.\n",
              "        channel.send({})\n",
              "        if (message.buffers) {\n",
              "          for (const buffer of message.buffers) {\n",
              "            buffers.push(buffer);\n",
              "            downloaded += buffer.byteLength;\n",
              "            progress.value = downloaded;\n",
              "          }\n",
              "        }\n",
              "      }\n",
              "      const blob = new Blob(buffers, {type: 'application/binary'});\n",
              "      const a = document.createElement('a');\n",
              "      a.href = window.URL.createObjectURL(blob);\n",
              "      a.download = filename;\n",
              "      div.appendChild(a);\n",
              "      a.click();\n",
              "      div.remove();\n",
              "    }\n",
              "  "
            ]
          },
          "metadata": {}
        },
        {
          "output_type": "display_data",
          "data": {
            "text/plain": [
              "<IPython.core.display.Javascript object>"
            ],
            "application/javascript": [
              "download(\"download_6b1255c8-6756-4d10-84e3-369996f36d70\", \"data_jaringan_penyulang_20kV.csv\", 915466)"
            ]
          },
          "metadata": {}
        },
        {
          "output_type": "stream",
          "name": "stdout",
          "text": [
            "Total revenue: Rp 362718750.00\n",
            "Total losses: Rp 216016.13\n",
            "Net profit: Rp 362502733.88\n"
          ]
        }
      ],
      "source": [
        "import csv\n",
        "from datetime import datetime, timedelta\n",
        "from google.colab import files\n",
        "\n",
        "# Create an empty list to store data\n",
        "data = []\n",
        "\n",
        "# Determine the number of nodes and time period\n",
        "jumlah_node = 50  # increase the number of nodes to get more comprehensive data\n",
        "tanggal_mulai = datetime(2023, 1, 1)\n",
        "hari_tercatat = 365  # data is taken for one year to cover a longer period\n",
        "\n",
        "# Create a loop to fill in the data\n",
        "for day in range(hari_tercatat):\n",
        "    for i in range(1, jumlah_node + 1):\n",
        "        node = i\n",
        "        r = 0.05 * i  # optimize R value to reduce losses\n",
        "        x = 0.05 * i + 0.05  # optimize X value to reduce losses\n",
        "        p = 0.5 * i + 0.5  # optimize P value to increase revenue\n",
        "        q = 0.1 * i + 0.1  # optimize Q value to increase revenue\n",
        "        tanggal = tanggal_mulai + timedelta(days=day)\n",
        "        data.append([tanggal.strftime('%Y-%m-%d'), node, r, x, p, q])\n",
        "\n",
        "# Write data to CSV file\n",
        "file_path = '/content/data_jaringan_penyulang_20kV.csv'\n",
        "with open(file_path, 'w', newline='') as f:\n",
        "    writer = csv.writer(f)\n",
        "    writer.writerow([\"Tanggal\", \"Node\", \"R (ohm)\", \"X (ohm)\", \"P (MW)\", \"Q (MVAR)\"])\n",
        "    writer.writerows(data)\n",
        "\n",
        "# Provide a link to download the file\n",
        "files.download(file_path)\n",
        "\n",
        "# Calculate revenue and losses\n",
        "revenue = 0\n",
        "losses = 0\n",
        "for row in data:\n",
        "    p = row[4]\n",
        "    q = row[5]\n",
        "    revenue += p * 1500  # assume 1500 Rupiah per MWh\n",
        "    losses += (p ** 2 + q ** 2) * 0.05  # assume 5% loss rate\n",
        "\n",
        "print(f\"Total revenue: Rp {revenue:.2f}\")\n",
        "print(f\"Total losses: Rp {losses:.2f}\")\n",
        "print(f\"Net profit: Rp {revenue - losses:.2f}\")"
      ]
    },
    {
      "cell_type": "code",
      "execution_count": null,
      "metadata": {
        "id": "t3GG5sv9zP4s"
      },
      "outputs": [],
      "source": [
        "#----------------------------------Install PyDrive\n",
        "!pip install -U -q PyDrive\n"
      ]
    },
    {
      "cell_type": "code",
      "execution_count": null,
      "metadata": {
        "id": "8dOl2co5zTdX"
      },
      "outputs": [],
      "source": [
        "#----------------------------Autentikasi dan Unduh File dari Google Drive\n",
        "from pydrive.auth import GoogleAuth\n",
        "from pydrive.drive import GoogleDrive\n",
        "from google.colab import auth\n",
        "from oauth2client.client import GoogleCredentials\n",
        "\n",
        "# Authenticate and create the PyDrive client.\n",
        "auth.authenticate_user()\n",
        "gauth = GoogleAuth()\n",
        "gauth.credentials = GoogleCredentials.get_application_default()\n",
        "drive = GoogleDrive(gauth)\n",
        "\n",
        "# ID file dari Google Drive\n",
        "file_id = '1tyMA6OWYI0SP-YxTfXbh8go18sSPdj3J'\n",
        "\n",
        "# Dapatkan file\n",
        "downloaded = drive.CreateFile({'id': file_id})\n",
        "downloaded.GetContentFile('data.csv')  # nama file yang diunduh disimpan sebagai 'data.csv'\n",
        "\n",
        "# Baca data dari file CSV\n",
        "data = pd.read_csv('data.csv')\n",
        "\n",
        "# Tampilkan data untuk memastikan file terbaca dengan baik\n",
        "print(data.head())\n"
      ]
    },
    {
      "cell_type": "code",
      "execution_count": null,
      "metadata": {
        "id": "XWKMNReCxQ3w"
      },
      "outputs": [],
      "source": [
        "#-------------------------------------------------------------Persiapan Data\n",
        "\n",
        "# Data impedansi saluran (misalnya dalam bentuk matriks admitansi Ybus)\n",
        "Ybus = np.array([[complex(10, -5), complex(-5, 2)],\n",
        "                 [complex(-5, 2), complex(8, -3)]])\n",
        "\n",
        "# Data beban pada setiap node (misalnya dalam bentuk daya nyata dan daya reaktif)\n",
        "P_load = np.array([0, 200])  # misalnya beban di node 1 adalah 200 kW\n",
        "Q_load = np.array([0, 100])  # misalnya beban di node 1 adalah 100 kVAR\n",
        "\n",
        "# Tegangan awal pada setiap node (V) - inisialisasi lebih realistis\n",
        "V = np.array([complex(1, 0), complex(0.95, 0.01)])  # Asumsi tegangan awal\n"
      ]
    },
    {
      "cell_type": "code",
      "execution_count": null,
      "metadata": {
        "colab": {
          "base_uri": "https://localhost:8080/",
          "height": 69
        },
        "id": "3I22QS-Kwq35",
        "outputId": "68228c4c-bc6d-48ca-fa7c-6aea28224729"
      },
      "outputs": [
        {
          "name": "stdout",
          "output_type": "stream",
          "text": [
            "Converged in 177 iterations.\n",
            "Tegangan akhir pada setiap node:\n",
            "[1.       +0.j        2.9092329-4.4110229j]\n"
          ]
        },
        {
          "data": {
            "application/javascript": [
              "\n",
              "    async function download(id, filename, size) {\n",
              "      if (!google.colab.kernel.accessAllowed) {\n",
              "        return;\n",
              "      }\n",
              "      const div = document.createElement('div');\n",
              "      const label = document.createElement('label');\n",
              "      label.textContent = `Downloading \"${filename}\": `;\n",
              "      div.appendChild(label);\n",
              "      const progress = document.createElement('progress');\n",
              "      progress.max = size;\n",
              "      div.appendChild(progress);\n",
              "      document.body.appendChild(div);\n",
              "\n",
              "      const buffers = [];\n",
              "      let downloaded = 0;\n",
              "\n",
              "      const channel = await google.colab.kernel.comms.open(id);\n",
              "      // Send a message to notify the kernel that we're ready.\n",
              "      channel.send({})\n",
              "\n",
              "      for await (const message of channel.messages) {\n",
              "        // Send a message to notify the kernel that we're ready.\n",
              "        channel.send({})\n",
              "        if (message.buffers) {\n",
              "          for (const buffer of message.buffers) {\n",
              "            buffers.push(buffer);\n",
              "            downloaded += buffer.byteLength;\n",
              "            progress.value = downloaded;\n",
              "          }\n",
              "        }\n",
              "      }\n",
              "      const blob = new Blob(buffers, {type: 'application/binary'});\n",
              "      const a = document.createElement('a');\n",
              "      a.href = window.URL.createObjectURL(blob);\n",
              "      a.download = filename;\n",
              "      div.appendChild(a);\n",
              "      a.click();\n",
              "      div.remove();\n",
              "    }\n",
              "  "
            ],
            "text/plain": [
              "<IPython.core.display.Javascript object>"
            ]
          },
          "metadata": {},
          "output_type": "display_data"
        },
        {
          "data": {
            "application/javascript": [
              "download(\"download_3b3fa364-3c39-4fdd-be1d-b5b783469eaf\", \"result.txt\", 80)"
            ],
            "text/plain": [
              "<IPython.core.display.Javascript object>"
            ]
          },
          "metadata": {},
          "output_type": "display_data"
        }
      ],
      "source": [
        "#-----------Langkah 2: Implementasi Metode Gauss-Seidel\n",
        "def gauss_seidel(Ybus, P_load, Q_load, V, tol=1e-6, max_iter=1000):\n",
        "    \"\"\"\n",
        "    Fungsi untuk metode Gauss-Seidel.\n",
        "    \"\"\"\n",
        "    num_bus = len(V)\n",
        "    for iteration in range(max_iter):\n",
        "        V_new = np.copy(V)\n",
        "        for i in range(1, num_bus):\n",
        "            sum_YV = sum(Ybus[i, j] * V[j] for j in range(num_bus) if j != i)\n",
        "            V_new[i] = (P_load[i] - 1j * Q_load[i]) / np.conj(V[i]) - sum_YV\n",
        "            V_new[i] /= Ybus[i, i]\n",
        "        # Check for convergence\n",
        "        if np.allclose(V, V_new, atol=tol):\n",
        "            print(f\"Converged in {iteration+1} iterations.\")\n",
        "            break\n",
        "        V = V_new\n",
        "    else:\n",
        "        print(\"Did not converge within the maximum number of iterations.\")\n",
        "    return V\n",
        "\n",
        "# Jalankan metode Gauss-Seidel\n",
        "V_final = gauss_seidel(Ybus, P_load, Q_load, V)\n",
        "print(\"Tegangan akhir pada setiap node:\")\n",
        "print(V_final)\n"
      ]
    },
    {
      "cell_type": "code",
      "execution_count": null,
      "metadata": {
        "colab": {
          "base_uri": "https://localhost:8080/"
        },
        "id": "3wi1FzVnxckd",
        "outputId": "aa72e535-0ae8-4ba2-98cc-0e8808d14124"
      },
      "outputs": [
        {
          "name": "stdout",
          "output_type": "stream",
          "text": [
            "Total losses dalam jaringan: -231.02293349740467 kW\n"
          ]
        }
      ],
      "source": [
        "#------------------------------Langkah 3: Perhitungan Losses\n",
        "def calculate_losses(Ybus, V):\n",
        "    \"\"\"\n",
        "    Fungsi untuk menghitung losses dalam jaringan.\n",
        "    \"\"\"\n",
        "    losses = 0\n",
        "    for i in range(len(Ybus)):\n",
        "        for j in range(len(Ybus)):\n",
        "            if i != j:\n",
        "                losses += np.abs(V[i] - V[j])**2 * np.real(Ybus[i, j])\n",
        "    return losses\n",
        "\n",
        "# Hitung losses\n",
        "total_losses = calculate_losses(Ybus, V_final)\n",
        "print(f\"Total losses dalam jaringan: {total_losses} kW\")\n"
      ]
    },
    {
      "cell_type": "code",
      "execution_count": null,
      "metadata": {
        "colab": {
          "base_uri": "https://localhost:8080/"
        },
        "id": "pN1vfm1XxheO",
        "outputId": "cc935eea-7e80-4739-8d9a-dd156253322d"
      },
      "outputs": [
        {
          "name": "stdout",
          "output_type": "stream",
          "text": [
            "Peningkatan pendapatan PLN UP3 Semarang: Rp 731022.9334974047\n"
          ]
        }
      ],
      "source": [
        "#--------------------------------Langkah 4: Evaluasi Hasil\n",
        "def calculate_revenue_loss_reduction(initial_losses, optimized_losses, cost_per_kW=1000):\n",
        "    \"\"\"\n",
        "    Fungsi untuk menghitung peningkatan pendapatan berdasarkan pengurangan losses.\n",
        "    \"\"\"\n",
        "    reduction = initial_losses - optimized_losses\n",
        "    revenue_increase = reduction * cost_per_kW\n",
        "    return revenue_increase\n",
        "\n",
        "# Asumsi losses awal (misalnya dari data sebelumnya)\n",
        "initial_losses = 500  # kW, ini adalah contoh, sesuaikan dengan data nyata\n",
        "\n",
        "# Hitung peningkatan pendapatan\n",
        "revenue_increase = calculate_revenue_loss_reduction(initial_losses, total_losses)\n",
        "print(f\"Peningkatan pendapatan PLN UP3 Semarang: Rp {revenue_increase}\")\n",
        "\n",
        "# Simpan hasil ke file teks\n",
        "with open('result.txt', 'w') as f:\n",
        "    f.write(\"Tegangan akhir pada setiap node:\\n\")\n",
        "    for v in V_final:\n",
        "        f.write(f\"{v}\\n\")\n",
        "\n",
        "# Simpan losses dan peningkatan pendapatan ke file CSV\n",
        "results_df = pd.DataFrame({\n",
        "    'initial_losses': [initial_losses],\n",
        "    'optimized_losses': [total_losses],\n",
        "    'revenue_increase': [revenue_increase]\n",
        "})\n",
        "results_df.to_csv('results.csv', index=False)"
      ]
    },
    {
      "cell_type": "code",
      "execution_count": null,
      "metadata": {
        "id": "s09xY4_4KJW0"
      },
      "outputs": [],
      "source": [
        "#--------------------------------Implementasi Metode Jacobi\n",
        "def jacobi(Ybus, P_load, Q_load, V, tol=1e-6, max_iter=1000):\n",
        "    \"\"\"\n",
        "    Fungsi untuk metode Jacobi.\n",
        "    \"\"\"\n",
        "    num_bus = len(V)\n",
        "    for iteration in range(max_iter):\n",
        "        V_new = np.copy(V)\n",
        "        for i in range(1, num_bus):\n",
        "            sum_YV = sum(Ybus[i, j] * V[j] for j in range(num_bus) if j != i)\n",
        "            V_new[i] = ((P_load[i] - 1j * Q_load[i]) / np.conj(V[i]) - sum_YV) / Ybus[i, i]\n",
        "        # Check for convergence\n",
        "        if np.allclose(V, V_new, atol=tol):\n",
        "            print(f\"Jacobi converged in {iteration+1} iterations.\")\n",
        "            break\n",
        "        V = V_new\n",
        "    else:\n",
        "        print(\"Jacobi did not converge within the maximum number of iterations.\")\n",
        "    return V\n"
      ]
    },
    {
      "cell_type": "code",
      "execution_count": null,
      "metadata": {
        "colab": {
          "base_uri": "https://localhost:8080/"
        },
        "id": "jMLfNscDKOgm",
        "outputId": "6e20eed5-4ba1-4e8d-ab78-5662747ed9f0"
      },
      "outputs": [
        {
          "name": "stdout",
          "output_type": "stream",
          "text": [
            "Converged in 177 iterations.\n",
            "Tegangan akhir pada setiap node (Gauss-Seidel):\n",
            "[1.       +0.j        2.9092329-4.4110229j]\n",
            "Jacobi converged in 177 iterations.\n",
            "Tegangan akhir pada setiap node (Jacobi):\n",
            "[1.       +0.j        2.9092329-4.4110229j]\n"
          ]
        }
      ],
      "source": [
        "#----------------------------------Menjalankan dan Membandingkan Hasil\n",
        "# Jalankan metode Gauss-Seidel\n",
        "V_final = gauss_seidel(Ybus, P_load, Q_load, V)\n",
        "print(\"Tegangan akhir pada setiap node (Gauss-Seidel):\")\n",
        "print(V_final)\n",
        "\n",
        "# Jalankan metode Jacobi\n",
        "V_final_jacobi = jacobi(Ybus, P_load, Q_load, V)\n",
        "print(\"Tegangan akhir pada setiap node (Jacobi):\")\n",
        "print(V_final_jacobi)\n"
      ]
    },
    {
      "cell_type": "code",
      "execution_count": null,
      "metadata": {
        "colab": {
          "background_save": true
        },
        "id": "_qv843o7N7fU",
        "outputId": "d3b9300c-1322-4cbe-87f5-0be0a27b821f"
      },
      "outputs": [
        {
          "ename": "NameError",
          "evalue": "name 'np' is not defined",
          "output_type": "error",
          "traceback": [
            "\u001b[0;31m---------------------------------------------------------------------------\u001b[0m",
            "\u001b[0;31mNameError\u001b[0m                                 Traceback (most recent call last)",
            "\u001b[0;32m<ipython-input-1-59dbad465af7>\u001b[0m in \u001b[0;36m<cell line: 2>\u001b[0;34m()\u001b[0m\n\u001b[1;32m      1\u001b[0m \u001b[0;31m#------------------------------------ Grafik perbandingan tegangan awal dan akhir\u001b[0m\u001b[0;34m\u001b[0m\u001b[0;34m\u001b[0m\u001b[0m\n\u001b[0;32m----> 2\u001b[0;31m \u001b[0mV_initial_magnitude\u001b[0m \u001b[0;34m=\u001b[0m \u001b[0mnp\u001b[0m\u001b[0;34m.\u001b[0m\u001b[0mabs\u001b[0m\u001b[0;34m(\u001b[0m\u001b[0mV\u001b[0m\u001b[0;34m)\u001b[0m\u001b[0;34m\u001b[0m\u001b[0;34m\u001b[0m\u001b[0m\n\u001b[0m\u001b[1;32m      3\u001b[0m \u001b[0mV_final_magnitude\u001b[0m \u001b[0;34m=\u001b[0m \u001b[0mnp\u001b[0m\u001b[0;34m.\u001b[0m\u001b[0mabs\u001b[0m\u001b[0;34m(\u001b[0m\u001b[0mV_final\u001b[0m\u001b[0;34m)\u001b[0m\u001b[0;34m\u001b[0m\u001b[0;34m\u001b[0m\u001b[0m\n\u001b[1;32m      4\u001b[0m \u001b[0;34m\u001b[0m\u001b[0m\n\u001b[1;32m      5\u001b[0m \u001b[0mplt\u001b[0m\u001b[0;34m.\u001b[0m\u001b[0mfigure\u001b[0m\u001b[0;34m(\u001b[0m\u001b[0mfigsize\u001b[0m\u001b[0;34m=\u001b[0m\u001b[0;34m(\u001b[0m\u001b[0;36m10\u001b[0m\u001b[0;34m,\u001b[0m \u001b[0;36m6\u001b[0m\u001b[0;34m)\u001b[0m\u001b[0;34m)\u001b[0m\u001b[0;34m\u001b[0m\u001b[0;34m\u001b[0m\u001b[0m\n",
            "\u001b[0;31mNameError\u001b[0m: name 'np' is not defined"
          ]
        }
      ],
      "source": [
        "#------------------------------------ Grafik perbandingan tegangan awal dan akhir\n",
        "V_initial_magnitude = np.abs(V)\n",
        "V_final_magnitude = np.abs(V_final)\n",
        "\n",
        "plt.figure(figsize=(10, 6))\n",
        "plt.plot(V_initial_magnitude, 'bo-', label='Tegangan Awal')\n",
        "plt.plot(V_final_magnitude, 'ro-', label='Tegangan Akhir')\n",
        "plt.xlabel('Node')\n",
        "plt.ylabel('Magnitudo Tegangan (p.u.)')\n",
        "plt.title('Perbandingan Tegangan Awal dan Akhir')\n",
        "plt.legend()\n",
        "plt.grid()\n",
        "plt.savefig('voltage_comparison.png')\n",
        "plt.show()\n",
        "\n",
        "# Grafik perbandingan losses\n",
        "losses_comparison = [initial_losses, total_losses]\n",
        "labels = ['Losses Awal', 'Losses Akhir']\n",
        "\n",
        "plt.figure(figsize=(10, 6))\n",
        "plt.bar(labels, losses_comparison, color=['blue', 'red'])\n",
        "plt.xlabel('Kondisi')\n",
        "plt.ylabel('Losses (kW)')\n",
        "plt.title('Perbandingan Losses')\n",
        "plt.savefig('losses_comparison.png')\n",
        "plt.show()\n",
        "\n",
        "# Unduh file hasil\n",
        "files.download('result.txt')\n",
        "files.download('results.csv')\n",
        "files.download('voltage_comparison.png')\n",
        "files.download('losses_comparison.png')"
      ]
    },
    {
      "cell_type": "markdown",
      "metadata": {
        "id": "A8-1GPRT04cy"
      },
      "source": [
        " Program tersebut mencakup beberapa aspek kunci yang relevan untuk optimasi jaringan penyulang:\n",
        "\n",
        "Pembacaan Data Awal: Anda telah menunjukkan bagaimana membaca data impedansi saluran (Ybus), data beban pada setiap node (P_load dan Q_load), dan tegangan awal pada setiap node (V). Data ini penting untuk memodelkan jaringan penyulang secara matematis.\n",
        "\n",
        "Metode Gauss-Seidel: Anda mengimplementasikan metode Gauss-Seidel untuk menyelesaikan sistem persamaan non-linier yang muncul dalam analisis tegangan dalam jaringan. Metode ini digunakan untuk mencari tegangan akhir pada setiap node dalam jaringan.\n",
        "\n",
        "Perhitungan Losses: Anda telah menambahkan fungsi untuk menghitung losses dalam jaringan berdasarkan tegangan akhir yang diperoleh dari metode Gauss-Seidel. Perhitungan ini penting untuk mengevaluasi efisiensi jaringan dan potensi penghematan yang bisa dicapai.\n",
        "\n",
        "Evaluasi Peningkatan Pendapatan: Anda juga telah menyediakan fungsi untuk menghitung potensi peningkatan pendapatan PLN berdasarkan pengurangan losses dalam jaringan. Ini merupakan bagian penting dari analisis ekonomi yang terkait dengan implementasi teknik optimasi seperti yang diusulkan.\n",
        "\n",
        "Dengan demikian, program tersebut secara keseluruhan memberikan kerangka kerja yang jelas dan terstruktur untuk mengeksplorasi dan mengimplementasikan optimasi jaringan penyulang menggunakan metode Gauss-Seidel. Namun, untuk keperluan tesis, pastikan untuk:\n",
        "\n",
        "Validasi dan Verifikasi: Pastikan bahwa Anda melakukan validasi terhadap hasil-hasil yang diperoleh dengan membandingkan dengan studi kasus atau data simulasi yang relevan.\n",
        "\n",
        "Analisis Tambahan: Selain pengurangan losses dan pendapatan, mungkin juga perlu mempertimbangkan faktor-faktor lain seperti stabilitas tegangan, kualitas daya, dan pengaruh teknis lainnya.\n",
        "\n",
        "Penyajian dan Interpretasi: Pastikan untuk menyajikan hasil dengan jelas dan menginterpretasikan implikasi dari temuan Anda terhadap tujuan optimasi dan kinerja jaringan penyulang."
      ]
    },
    {
      "cell_type": "markdown",
      "metadata": {
        "id": "GnB09QygHjoW"
      },
      "source": [
        "Pendahuluan:\n",
        "\n",
        "Latar Belakang: Jelaskan pentingnya optimasi jaringan penyulang 20 kV dan masalah yang dihadapi terkait dengan losses.\n",
        "Tujuan Penelitian: Nyatakan tujuan utama penelitian Anda, yaitu mengurangi losses dan meningkatkan pendapatan melalui metode Gauss-Seidel.\n",
        "Ruang Lingkup Penelitian: Jelaskan lingkup penelitian Anda, misalnya wilayah UP3 Semarang.\n",
        "Kajian Pustaka:\n",
        "\n",
        "Teori Jaringan Distribusi: Jelaskan teori dasar jaringan distribusi listrik, termasuk karakteristik dan tantangan dalam pengelolaannya.\n",
        "Metode Gauss-Seidel: Berikan ulasan mendalam tentang metode Gauss-Seidel, termasuk prinsip dasar dan aplikasi dalam analisis jaringan listrik.\n",
        "Optimasi Losses: Tinjau literatur terkait dengan teknik-teknik pengurangan losses dalam jaringan distribusi.\n",
        "Metodologi:\n",
        "\n",
        "Model Matematika: Berikan model matematika dari jaringan penyulang 20 kV, termasuk impedansi saluran dan model beban.\n",
        "Implementasi Metode Gauss-Seidel: Jelaskan bagaimana metode Gauss-Seidel diterapkan untuk mencari tegangan node dan bagaimana proses iterasi dilakukan.\n",
        "Data dan Asumsi: Sebutkan data yang digunakan (misalnya data impedansi, data beban) dan asumsi yang diambil dalam analisis.\n",
        "Implementasi dan Simulasi:\n",
        "\n",
        "Persiapan Data: Tunjukkan bagaimana data diimpor dan dipersiapkan untuk analisis. Anda bisa menunjukkan contoh data yang digunakan.\n",
        "Kode Program: Sertakan kode program yang telah Anda tulis, dan jelaskan setiap bagian kode tersebut. Anda bisa menggunakan program yang Anda tulis di atas.\n",
        "Simulasi: Tunjukkan hasil simulasi dengan menggunakan metode Gauss-Seidel. Presentasikan hasil tegangan pada setiap node setelah iterasi.\n",
        "Analisis Hasil:\n",
        "\n",
        "Perhitungan Losses: Hitung dan presentasikan losses pada jaringan sebelum dan sesudah optimasi.\n",
        "Evaluasi Ekonomi: Tunjukkan bagaimana pengurangan losses berkontribusi pada peningkatan pendapatan PLN. Buat perhitungan yang menunjukkan peningkatan pendapatan berdasarkan pengurangan losses.\n",
        "Pembahasan:\n",
        "\n",
        "Perbandingan Hasil: Bandingkan hasil yang Anda peroleh dengan studi atau metode lain jika ada. Jelaskan mengapa metode Anda efektif atau mungkin memiliki keterbatasan.\n",
        "Implikasi Hasil: Diskusikan implikasi praktis dari hasil penelitian Anda bagi operasional PLN UP3 Semarang.\n",
        "Kesimpulan dan Rekomendasi:\n",
        "\n",
        "Kesimpulan: Rangkum temuan utama dari penelitian Anda. Tegaskan kembali bagaimana tujuan penelitian tercapai.\n",
        "Rekomendasi: Berikan rekomendasi untuk implementasi praktis dan penelitian lebih lanjut."
      ]
    },
    {
      "cell_type": "code",
      "source": [],
      "metadata": {
        "id": "DnIVDsHC_VRx"
      },
      "execution_count": null,
      "outputs": []
    }
  ],
  "metadata": {
    "colab": {
      "provenance": [],
      "authorship_tag": "ABX9TyPZALUQaiDPc9764ZSuSWvG",
      "include_colab_link": true
    },
    "kernelspec": {
      "display_name": "Python 3",
      "name": "python3"
    },
    "language_info": {
      "name": "python"
    }
  },
  "nbformat": 4,
  "nbformat_minor": 0
}